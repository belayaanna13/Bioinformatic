{
  "nbformat": 4,
  "nbformat_minor": 0,
  "metadata": {
    "colab": {
      "name": "Untitled5.ipynb",
      "provenance": [],
      "authorship_tag": "ABX9TyNnaictOEYvKv2WFe53W3if",
      "include_colab_link": true
    },
    "kernelspec": {
      "name": "python3",
      "display_name": "Python 3"
    },
    "language_info": {
      "name": "python"
    }
  },
  "cells": [
    {
      "cell_type": "markdown",
      "metadata": {
        "id": "view-in-github",
        "colab_type": "text"
      },
      "source": [
        "<a href=\"https://colab.research.google.com/github/belayaanna13/Bioinformatic/blob/master/Untitled5.ipynb\" target=\"_parent\"><img src=\"https://colab.research.google.com/assets/colab-badge.svg\" alt=\"Open In Colab\"/></a>"
      ]
    },
    {
      "cell_type": "code",
      "execution_count": 6,
      "metadata": {
        "colab": {
          "base_uri": "https://localhost:8080/",
          "height": 709
        },
        "id": "U2jmNUu0eICc",
        "outputId": "6df7e051-1f8e-4ca3-ad5c-ac289e06267f"
      },
      "outputs": [
        {
          "name": "stdout",
          "output_type": "stream",
          "text": [
            "Введите c: 7\n",
            "Введите N: 100000\n"
          ]
        },
        {
          "output_type": "stream",
          "name": "stderr",
          "text": [
            "IOPub data rate exceeded.\n",
            "The notebook server will temporarily stop sending output\n",
            "to the client in order to avoid crashing it.\n",
            "To change this limit, set the config variable\n",
            "`--NotebookApp.iopub_data_rate_limit`.\n",
            "\n",
            "Current values:\n",
            "NotebookApp.iopub_data_rate_limit=1000000.0 (bytes/sec)\n",
            "NotebookApp.rate_limit_window=3.0 (secs)\n",
            "\n"
          ]
        },
        {
          "output_type": "execute_result",
          "data": {
            "text/plain": [
              "[None, None]"
            ]
          },
          "metadata": {},
          "execution_count": 6
        },
        {
          "output_type": "display_data",
          "data": {
            "image/png": "[encoded data removed]",
            "text/plain": [
              "<Figure size 576x576 with 1 Axes>"
            ]
          },
          "metadata": {
            "needs_background": "light"
          }
        }
      ],
      "source": [
        "import time\n",
        "import random\n",
        "import math\n",
        "\n",
        "\n",
        "m = [0, 1]\n",
        "c = int(input('Введите c: '))\n",
        "n = 0 #количество чисел в массиве\n",
        "time_arr = []\n",
        "n_arr = []\n",
        "N = int(input('Введите N: '))\n",
        "\n",
        "hash_table = {}\n",
        "for i in range(N*c):\n",
        "  hash_table[i] = []\n",
        "# hash_table = {\n",
        "#     0:[],\n",
        "#     1:[],\n",
        "#     2:[],\n",
        "#     3:[],\n",
        "#     4:[],\n",
        "#     5:[],\n",
        "#     6:[],\n",
        "#     7:[],\n",
        "#     8:[],\n",
        "#     9:[]\n",
        "# }\n",
        "k = 0\n",
        "\n",
        "#Вычисляет индекс, куда засунуть число x\n",
        "def Hash_function(b):\n",
        "    return (b*len(hash_table))//1\n",
        "\n",
        "  \n",
        "for i in range(N):\n",
        "    n+= 1\n",
        "    x = random.random()\n",
        "    a = random.random()  # число, добавляемое в таблицу\n",
        "    if n >= 167:\n",
        "        x = a\n",
        "\n",
        "    hash_table[Hash_function(a)].append(a)\n",
        "\n",
        "    time_from_start = time.time()\n",
        "    for i in hash_table[x*len(hash_table)//1]:\n",
        "        if x == i:\n",
        "            k = 1\n",
        "            break\n",
        "\n",
        "    time_of_program = time.time() - time_from_start\n",
        "\n",
        "    n_arr.append(n)\n",
        "    time_arr.append(time_of_program)\n",
        "\n",
        "# print(time_arr)\n",
        "# print(n_arr)\n",
        "print(hash_table)\n",
        "\n",
        "import numpy as np\n",
        "import matplotlib.pyplot as plt\n",
        "\n",
        "y = np.array(time_arr)\n",
        "x = np.array(n_arr)\n",
        "fig, ax = plt.subplots()\n",
        "ax.scatter(x, y, c = '#FFE2B7')\n",
        "ax.set_facecolor('black')\n",
        "fig.set(figwidth = 8,\n",
        "figheight = 8)\n"
      ]
    }
  ]
}